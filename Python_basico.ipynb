{
 "cells": [
  {
   "cell_type": "markdown",
   "metadata": {
    "id": "jrvwNQJi0P9l"
   },
   "source": [
    "Una empresa de comercio electrónico, Store 1, recientemente comenzó a recopilar datos sobre sus clientes. El objetivo final de Store 1 es comprender mejor el comportamiento de sus clientes y tomar decisiones basadas en datos para mejorar su experiencia online.\n",
    "\n",
    "Como parte del equipo de análisis, la primera tarea consiste en evaluar la calidad de los datos que hemos recibido. Esto implica revisar la muestra de datos para identificar cualquier inconsistencia, valor faltante o error que podría afectar futuros análisis."
   ]
  },
  {
   "cell_type": "markdown",
   "metadata": {
    "id": "2utuFkVZ0P9p"
   },
   "source": [
    "# Cuestionario\n",
    "\n",
    "Store 1 tiene como objetivo garantizar la coherencia en la recopilación de datos. Como parte de esta iniciativa, se debe evaluar la calidad de los datos recopilados sobre los usuarios y las usuarias. Te han pedido que revises los datos recopilados y propongas cambios. A continuación verás datos sobre un usuario o una usuaria en particular; revisa los datos e identifica cualquier posible problema."
   ]
  },
  {
   "cell_type": "code",
   "execution_count": null,
   "metadata": {
    "id": "v4ldWAes0P9q"
   },
   "outputs": [],
   "source": [
    "user_id = '32415'\n",
    "user_name = ' mike_reed '\n",
    "user_age = 32.0\n",
    "fav_categories = ['ELECTRONICS', 'SPORT', 'BOOKS']"
   ]
  },
  {
   "cell_type": "markdown",
   "metadata": {
    "id": "v5J9NgXf0P9r"
   },
   "source": [
    "**Opciones:**\n",
    "\n",
    "1. El tipo de dato `user_id` al ser un identificador , esta correcto que sea un tipo string.\n",
    "    \n",
    "2. La variable ` mike_redd ` debe quitarse el espacio entre las comillas.\n",
    "    \n",
    "3. En la tercer variable es un tipo de dato float , pero al ser (32.0) se puede eliminar el cero y tratarlo como un tipo de dato entero.\n",
    "    \n",
    "4. La lista `fav_categories` contiene cadenas en mayúsculas. En su lugar, deberíamos convertir los valores de la lista a minúsculas. Aunque esto no tendra un mayor impacto.   "
   ]
  },
  {
   "cell_type": "markdown",
   "metadata": {
    "id": "qKAtWDqu0P9t"
   },
   "source": [
    "# Ejercicio 1\n",
    "\n",
    "Vamos a implementar los cambios que identificamos. Primero, necesitamos corregir los problemas de la variable `user_name`. Como vimos, tiene espacios innecesarios y un guion bajo como separador entre el nombre y el apellido."
   ]
  },
  {
   "cell_type": "code",
   "execution_count": 4,
   "metadata": {
    "id": "442z87Uq0P9t"
   },
   "outputs": [
    {
     "name": "stdout",
     "output_type": "stream",
     "text": [
      "mike reed\n"
     ]
    }
   ],
   "source": [
    "user_name = ' mike_reed '\n",
    "user_name = user_name.strip()# eliminar los espacios en la cadena original\n",
    "user_name = user_name.replace('_',' ')# reemplazar el guion bajo con el espacio\n",
    "\n",
    "print(user_name)"
   ]
  },
  {
   "cell_type": "markdown",
   "metadata": {
    "id": "g4YyN4WK0P9t"
   },
   "source": [
    "# Ejercicio 2\n",
    "\n",
    "Luego, debemos dividir el `user_name` (nombre de usuario o usuaria) actualizado en dos subcadenas para obtener una lista que contenga dos valores: la cadena para el nombre y la cadena para el apellido."
   ]
  },
  {
   "cell_type": "code",
   "execution_count": 13,
   "metadata": {
    "id": "Q1L1ARfY0P9u"
   },
   "outputs": [
    {
     "name": "stdout",
     "output_type": "stream",
     "text": [
      "['mike', 'reed']\n"
     ]
    }
   ],
   "source": [
    "user_name = 'mike reed'\n",
    "name_split = user_name.split() # divide aquí el string user_name\n",
    "\n",
    "print(name_split)"
   ]
  },
  {
   "cell_type": "markdown",
   "metadata": {
    "id": "-VWZkZtc0P9u"
   },
   "source": [
    "# Ejercicio 3\n",
    "\n",
    "Ahora debemos trabajar con la variable `user_age`. Como ya mencionamos, esta tiene un tipo de datos incorrecto. Arreglemos este problema transformando el tipo de datos y mostrando el resultado final."
   ]
  },
  {
   "cell_type": "code",
   "execution_count": 14,
   "metadata": {
    "id": "WPpidP470P9u"
   },
   "outputs": [
    {
     "name": "stdout",
     "output_type": "stream",
     "text": [
      "32\n"
     ]
    }
   ],
   "source": [
    "user_age = 32.0\n",
    "user_age = int(user_age)# cambia el tipo de datos para la edad de un usuario o usuaria\n",
    "\n",
    "print(user_age)"
   ]
  },
  {
   "cell_type": "markdown",
   "metadata": {
    "id": "xdfgaKd60P9v"
   },
   "source": [
    "# Ejercicio 4\n",
    "\n",
    "Como sabemos, los datos no siempre son perfectos. Debemos considerar escenarios en los que el valor de `user_age` no se pueda convertir en un número entero. Para evitar que nuestro sistema se bloquee, debemos tomar medidas con anticipación.\n",
    "\n",
    "Escribe un código que intente convertir la variable `user_age` en un número entero y asigna el valor transformado a `user_age_int`. Si el intento falla, mostramos un mensaje pidiendo al usuario o la usuaria que proporcione su edad como un valor numérico con el mensaje: `Please provide your age as a numerical value.` (Proporcione su edad como un valor numérico.)"
   ]
  },
  {
   "cell_type": "code",
   "execution_count": 5,
   "metadata": {
    "id": "duI5zn_O0P9v"
   },
   "outputs": [
    {
     "name": "stdout",
     "output_type": "stream",
     "text": [
      "Please provide your age as a numerical value\n"
     ]
    }
   ],
   "source": [
    "user_age = 'treinta y dos' # aquí está la variable que almacena la edad como un string.\n",
    "if user_age.isdigit():   #con sentencia if voy a evaluar si la variable es numerica , si es numerica me lo convierte a entero\n",
    "    user_age_int=int(user.age)\n",
    "else: #en caso de que no sea numerica , imprime el mensaje\n",
    "    print(\"Please provide your age as a numerical value\")\n",
    "# escribe un código que intente transformar user_age en un entero y si falla, imprime el mensaje especificado\n",
    "\n",
    "\n",
    "#tambien intentaria con el try, except:\n",
    "#\n",
    "#try:\n",
    "#    user_age_int = int(user_age)\n",
    "#except:\n",
    "#    print(\"Please provide your age as a numerical value\")\n"
   ]
  },
  {
   "cell_type": "markdown",
   "metadata": {
    "id": "Q04i6KQH0P9v"
   },
   "source": [
    "# Ejercicio 5\n",
    "\n",
    "Finalmente, es recomendable que la fila `fav_cateogires` este en minuscula por lo que se procede a realizar los respectivos cambios."
   ]
  },
  {
   "cell_type": "code",
   "execution_count": 6,
   "metadata": {
    "id": "AtQg6ie10P9v"
   },
   "outputs": [
    {
     "name": "stdout",
     "output_type": "stream",
     "text": [
      "['electronics', 'sport', 'books']\n"
     ]
    }
   ],
   "source": [
    "fav_categories = ['ELECTRONICS', 'SPORT', 'BOOKS']\n",
    "fav_categories_low = []\n",
    "\n",
    "for contador in fav_categories: #se genera una iteracion el cual recorra todos los elementos de la lista\n",
    "    fav_categories_low.append(contador.lower())  #a la nueva lista se le agregara los valores de la listfav_categories en la posicion contador y declarando que lo necesitamos en letras minusculas.\n",
    "\n",
    "#se imprime el resultado \n",
    "print(fav_categories_low)"
   ]
  },
  {
   "cell_type": "markdown",
   "metadata": {
    "id": "w8J0RSee0P9w"
   },
   "source": [
    "# Ejercicio 6\n",
    "\n",
    "Hemos obtenido información adicional sobre los hábitos de gasto de nuestros usuarios y usuarias, incluido el importe gastado en cada una de sus categorías favoritas. La gerencia está interesada en las siguientes métricas:\n",
    "\n",
    "- Importe total gastado por el usuario o la usuaria.\n",
    "- Importe mínimo gastado.\n",
    "- Importe máximo gastado.\n",
    "\n",
    "Vamos a calcular estos valores y mostrarlos en la pantalla:"
   ]
  },
  {
   "cell_type": "code",
   "execution_count": 1,
   "metadata": {
    "id": "BbhBAmcZ0P9w"
   },
   "outputs": [
    {
     "name": "stdout",
     "output_type": "stream",
     "text": [
      "1280\n",
      "894\n",
      "173\n"
     ]
    }
   ],
   "source": [
    "fav_categories_low = ['electronics', 'sport', 'books']\n",
    "spendings_per_category = [894, 213, 173]\n",
    "\n",
    "total_amount = sum(spendings_per_category)# escribe tu código aquí\n",
    "max_amount = max(spendings_per_category)# escribe tu código aquí\n",
    "min_amount = min(spendings_per_category) # escribe tu código aquí\n",
    "\n",
    "#se imprimer los resultados finales\n",
    "print(total_amount)\n",
    "print(max_amount)\n",
    "print(min_amount)"
   ]
  },
  {
   "cell_type": "markdown",
   "metadata": {
    "id": "hyPGzOt60P9w"
   },
   "source": [
    "# Ejercicio 7\n",
    "\n",
    "La empresa quiere ofrecer descuentos a sus clientes leales. Los clientes y las clientas que realizan compras por un importe total mayor a $1500 se consideran leales y recibirán un descuento.\n",
    "\n",
    "Nuestro objetivo es crear un bucle `while` que compruebe el importe total gastado y se detenga al alcanzarlo. Para simular nuevas compras, la variable `new_purchase` genera un número entre 30 y 80 en cada iteración del bucle. Esto representa el importe de dinero gastado en una nueva compra y es lo que hay que sumar al total.\n",
    "\n",
    "Una vez que se alcance el importe objetivo y se termine el bucle `while`, se mostrará la cantidad final."
   ]
  },
  {
   "cell_type": "code",
   "execution_count": 9,
   "metadata": {
    "id": "FmpTfK7C0P9x"
   },
   "outputs": [
    {
     "name": "stdout",
     "output_type": "stream",
     "text": [
      "1547\n"
     ]
    }
   ],
   "source": [
    "from random import randint\n",
    "\n",
    "total_amount_spent = 1280\n",
    "target_amount = 1500\n",
    "#mientras while sea falso seguira ejecutandose\n",
    "while total_amount_spent < target_amount:\n",
    "    new_purchase = randint(30, 80) # generamos un número aleatorio de 30 a 80\n",
    "    total_amount_spent += new_purchase \n",
    "    \n",
    "\n",
    "print(total_amount_spent)"
   ]
  },
  {
   "cell_type": "markdown",
   "metadata": {
    "id": "e9j2dOo60P9x"
   },
   "source": [
    "# Ejercicio 8\n",
    "\n",
    "Ahora tenemos toda la información sobre un cliente o una clienta de la forma que queremos que sea. La gerencia de una empresa nos pidió proponer una forma de resumir toda la información sobre un usuario o una usuaria. Tu objetivo es crear una cadena formateada que utilice información de las variables `user_id`, `user_name` y `user_age`.\n",
    "\n",
    "Esta es la cadena final que queremos crear: `User 32415 is mike who is 32 years old.` (El usuario 32415 es Mike, quien tiene 32 años)."
   ]
  },
  {
   "cell_type": "code",
   "execution_count": 15,
   "metadata": {
    "id": "2dzhjYbm0P9x"
   },
   "outputs": [
    {
     "name": "stdout",
     "output_type": "stream",
     "text": [
      "User 32415 is mike who is 32 years old\n"
     ]
    }
   ],
   "source": [
    "user_id = '32415'\n",
    "user_name = ['mike', 'reed']\n",
    "user_age = 32\n",
    "#se accede a los valores de la variable con el uso del F strings.\n",
    "user_info = f\"User {user_id} is {user_name[0]} who is {user_age} years old\" # escribe tu código aquí\n",
    "\n",
    "# no elimines la siguiente declaración print\n",
    "print(user_info)"
   ]
  },
  {
   "cell_type": "markdown",
   "metadata": {
    "id": "hJ38hJYU0P9x"
   },
   "source": [
    "Como sabes, las empresas recopilan y almacenan datos de una forma particular. Store 1 desea almacenar toda la información sobre sus clientes y clientas en una tabla.\n",
    "\n",
    "| user_id | user_name | user_age | purchase_category | spending_per_category |\n",
    "| --- | --- | --- | --- | --- |\n",
    "| '32415' | 'mike', 'reed' | 32 | 'electronics', 'sport', 'books' | 894, 213, 173 |\n",
    "| '31980' | 'kate', 'morgan' | 24 | 'clothes', 'shoes' | 439, 390 |\n",
    "\n",
    "En términos técnicos, una tabla es simplemente una lista anidada que contiene una sublista para cada usuario o usuaria.\n",
    "\n",
    "Store 1 ha creado una tabla de este tipo para sus usuarios y usuarias. Se almacena en la variable `users`. Cada sublista contiene el ID del usuario o la usuaria, nombre y apellido, edad, categorías favoritas y el importe gastado en cada categoría."
   ]
  },
  {
   "cell_type": "markdown",
   "metadata": {
    "id": "J7IXD3Zv0P9x"
   },
   "source": [
    "# Ejercicio 9\n",
    "Ahora se calcularan los ingresos totales de la empresa.\n",
    "\n",
    "Así obtendrás los ingresos totales de la empresa que mostrarás en la pantalla al final."
   ]
  },
  {
   "cell_type": "code",
   "execution_count": 7,
   "metadata": {
    "id": "d8jeNWXQ0P9y"
   },
   "outputs": [
    {
     "name": "stdout",
     "output_type": "stream",
     "text": [
      "2109\n"
     ]
    }
   ],
   "source": [
    "users = [\n",
    "\t  # este es el inicio de la primera sublista\n",
    "    ['32415', ['mike', 'reed'], 32, ['electronics', 'sport', 'books'],\n",
    "        [894, 213, 173]\n",
    "    ], # este es el final de la primera sublista\n",
    "\n",
    "    # este es el inicio de la segunda sublista\n",
    "    ['31980', ['kate', 'morgan'], 24, ['clothes', 'shoes'],\n",
    "        [439, 390]\n",
    "    ] # este es el final de la segunda sublista\n",
    "]\n",
    "\n",
    "revenue = 0\n",
    "\n",
    "for user in users:\n",
    "\tspendings_list = user[4]# extrae la lista de gastos de cada usuario o usuaria y suma los valores\n",
    "\ttotal_spendings = sum(spendings_list) # suma los gastos de todas las categorías para obtener el total de un usuario o una usuaria en particular\n",
    "\trevenue += total_spendings# actualiza los ingresos\n",
    "\n",
    "# Se muestra revenue\n",
    "print(revenue)"
   ]
  },
  {
   "cell_type": "markdown",
   "metadata": {
    "id": "wR0om7Tk0P9y"
   },
   "source": [
    "# Ejercicio 10\n",
    "\n",
    "Ahora se mostrara los nombres de la clientela menor de 30 años."
   ]
  },
  {
   "cell_type": "code",
   "execution_count": 8,
   "metadata": {
    "id": "KVdthJm70P9y"
   },
   "outputs": [
    {
     "name": "stdout",
     "output_type": "stream",
     "text": [
      "['kate', 'morgan']\n",
      "['samantha', 'smith']\n",
      "['emily', 'brown']\n",
      "['jose', 'martinez']\n",
      "['james', 'lee']\n"
     ]
    }
   ],
   "source": [
    "users = [\n",
    "    ['32415', ['mike', 'reed'], 32, ['electronics', 'sport', 'books'],\n",
    "     [894, 213, 173]],\n",
    "    ['31980', ['kate', 'morgan'], 24, ['clothes', 'books'], [439,\n",
    "     390]],\n",
    "    ['32156', ['john', 'doe'], 37, ['electronics', 'home', 'food'],\n",
    "     [459, 120, 99]],\n",
    "    ['32761', ['samantha', 'smith'], 29, ['clothes', 'electronics',\n",
    "     'beauty'], [299, 679, 85]],\n",
    "    ['32984', ['david', 'white'], 41, ['books', 'home', 'sport'], [234,\n",
    "     329, 243]],\n",
    "    ['33001', ['emily', 'brown'], 26, ['beauty', 'home', 'food'], [213,\n",
    "     659, 79]],\n",
    "    ['33767', ['maria', 'garcia'], 33, ['clothes', 'food', 'beauty'],\n",
    "     [499, 189, 63]],\n",
    "    ['33912', ['jose', 'martinez'], 22, ['sport', 'electronics', 'home'\n",
    "     ], [259, 549, 109]],\n",
    "    ['34009', ['lisa', 'wilson'], 35, ['home', 'books', 'clothes'],\n",
    "     [329, 189, 329]],\n",
    "    ['34278', ['james', 'lee'], 28, ['beauty', 'clothes', 'electronics'\n",
    "     ], [189, 299, 579]],\n",
    "    ]\n",
    "\n",
    "#se usa un ciclo for\n",
    "for names in users:\n",
    "    if names[2]<30: #Condicion para comprobar que son menor de 30 de edad.\n",
    "        print(names[1])"
   ]
  },
  {
   "cell_type": "markdown",
   "metadata": {
    "id": "LBHWQenm0P9y"
   },
   "source": [
    "# Ejercicio 11\n",
    "\n",
    "Juntemos las tareas 9 y 10 e imprimamos los nombres de los usuarios y las usuarias que tengan menos de 30 años y un gasto total superior a 1000 dólares."
   ]
  },
  {
   "cell_type": "code",
   "execution_count": 47,
   "metadata": {
    "id": "HaQNXS-V0P9z"
   },
   "outputs": [
    {
     "name": "stdout",
     "output_type": "stream",
     "text": [
      "['samantha', 'smith']\n",
      "['james', 'lee']\n"
     ]
    }
   ],
   "source": [
    "users = [\n",
    "    ['32415', ['mike', 'reed'], 32, ['electronics', 'sport', 'books'],\n",
    "     [894, 213, 173]],\n",
    "    ['31980', ['kate', 'morgan'], 24, ['clothes', 'books'], [439,\n",
    "     390]],\n",
    "    ['32156', ['john', 'doe'], 37, ['electronics', 'home', 'food'],\n",
    "     [459, 120, 99]],\n",
    "    ['32761', ['samantha', 'smith'], 29, ['clothes', 'electronics',\n",
    "     'beauty'], [299, 679, 85]],\n",
    "    ['32984', ['david', 'white'], 41, ['books', 'home', 'sport'], [234,\n",
    "     329, 243]],\n",
    "    ['33001', ['emily', 'brown'], 26, ['beauty', 'home', 'food'], [213,\n",
    "     659, 79]],\n",
    "    ['33767', ['maria', 'garcia'], 33, ['clothes', 'food', 'beauty'],\n",
    "     [499, 189, 63]],\n",
    "    ['33912', ['jose', 'martinez'], 22, ['sport', 'electronics', 'home'\n",
    "     ], [259, 549, 109]],\n",
    "    ['34009', ['lisa', 'wilson'], 35, ['home', 'books', 'clothes'],\n",
    "     [329, 189, 329]],\n",
    "    ['34278', ['james', 'lee'], 28, ['beauty', 'clothes', 'electronics'\n",
    "     ], [189, 299, 579]],\n",
    "    ]\n",
    "\n",
    "\n",
    "\n",
    "for user in users:    \n",
    "    if user[2] < 30 and sum(user[4])>1000: #se aplican dos condiciones , la primera si es menor de 30 de edad y la segunda \n",
    "        print(user[1])                     # si la suma de todos sus gastos es mayor de 1000 en caso afirmativo imprimira el nombre\n",
    "    # escribe tu código aquí"
   ]
  },
  {
   "cell_type": "markdown",
   "metadata": {
    "id": "yRozkK0R0P90"
   },
   "source": [
    "# Ejercicio 12\n",
    "\n",
    "Ahora vamos a mostrar el nombre y la edad de todos los usuarios y todas las usuarias que han comprado ropa. Imprime el nombre y la edad en la misma declaración print."
   ]
  },
  {
   "cell_type": "code",
   "execution_count": 85,
   "metadata": {
    "id": "mSIyHq1f0P90"
   },
   "outputs": [
    {
     "name": "stdout",
     "output_type": "stream",
     "text": [
      "['kate', 'morgan'] 24\n",
      "['samantha', 'smith'] 29\n",
      "['maria', 'garcia'] 33\n",
      "['lisa', 'wilson'] 35\n",
      "['james', 'lee'] 28\n"
     ]
    }
   ],
   "source": [
    "users = [\n",
    "    ['32415', ['mike', 'reed'], 32, ['electronics', 'sport', 'books'],\n",
    "     [894, 213, 173]],\n",
    "    ['31980', ['kate', 'morgan'], 24, ['clothes', 'books'], [439,\n",
    "     390]],\n",
    "    ['32156', ['john', 'doe'], 37, ['electronics', 'home', 'food'],\n",
    "     [459, 120, 99]],\n",
    "    ['32761', ['samantha', 'smith'], 29, ['clothes', 'electronics',\n",
    "     'beauty'], [299, 679, 85]],\n",
    "    ['32984', ['david', 'white'], 41, ['books', 'home', 'sport'], [234,\n",
    "     329, 243]],\n",
    "    ['33001', ['emily', 'brown'], 26, ['beauty', 'home', 'food'], [213,\n",
    "     659, 79]],\n",
    "    ['33767', ['maria', 'garcia'], 33, ['clothes', 'food', 'beauty'],\n",
    "     [499, 189, 63]],\n",
    "    ['33912', ['jose', 'martinez'], 22, ['sport', 'electronics', 'home'\n",
    "     ], [259, 549, 109]],\n",
    "    ['34009', ['lisa', 'wilson'], 35, ['home', 'books', 'clothes'],\n",
    "     [329, 189, 329]],\n",
    "    ['34278', ['james', 'lee'], 28, ['beauty', 'clothes', 'electronics'\n",
    "     ], [189, 299, 579]],\n",
    "    ]\n",
    "\n",
    "#escribe tu código aquí\n",
    "for name in users:\n",
    "    if \"clothes\" in name[3]: #se usa la condicional If para buscar la palabra clothes si esta dentro de la sublista[3].\n",
    "        print(name[1],name[2]) #se imprime el resultado del nombre y la edad.\n"
   ]
  }
 ],
 "metadata": {
  "ExecuteTimeLog": [
   {
    "duration": 10,
    "start_time": "2024-06-19T02:26:34.942Z"
   },
   {
    "duration": 4,
    "start_time": "2024-06-19T02:26:37.007Z"
   },
   {
    "duration": 4,
    "start_time": "2024-06-19T02:26:38.269Z"
   },
   {
    "duration": 7,
    "start_time": "2024-06-19T02:26:42.400Z"
   },
   {
    "duration": 4,
    "start_time": "2024-06-19T03:33:05.364Z"
   },
   {
    "duration": 4,
    "start_time": "2024-06-19T03:33:26.078Z"
   },
   {
    "duration": 4,
    "start_time": "2024-06-19T03:33:33.015Z"
   },
   {
    "duration": 5,
    "start_time": "2024-06-19T03:33:43.698Z"
   },
   {
    "duration": 5,
    "start_time": "2024-06-19T03:38:57.726Z"
   },
   {
    "duration": 4,
    "start_time": "2024-06-19T03:39:45.333Z"
   },
   {
    "duration": 5,
    "start_time": "2024-06-19T03:39:53.063Z"
   },
   {
    "duration": 5,
    "start_time": "2024-06-19T03:39:57.414Z"
   },
   {
    "duration": 5,
    "start_time": "2024-06-19T03:43:05.008Z"
   },
   {
    "duration": 4,
    "start_time": "2024-06-19T03:43:52.372Z"
   },
   {
    "duration": 5,
    "start_time": "2024-06-19T03:48:01.598Z"
   },
   {
    "duration": 6,
    "start_time": "2024-06-19T03:51:49.868Z"
   },
   {
    "duration": 4,
    "start_time": "2024-06-19T03:51:53.528Z"
   },
   {
    "duration": 4,
    "start_time": "2024-06-19T03:51:59.319Z"
   },
   {
    "duration": 4,
    "start_time": "2024-06-19T03:52:35.559Z"
   },
   {
    "duration": 11,
    "start_time": "2024-06-19T03:54:24.102Z"
   },
   {
    "duration": 8,
    "start_time": "2024-06-19T03:57:04.715Z"
   },
   {
    "duration": 7,
    "start_time": "2024-06-19T03:57:20.866Z"
   },
   {
    "duration": 7,
    "start_time": "2024-06-19T03:58:40.694Z"
   },
   {
    "duration": 6,
    "start_time": "2024-06-19T04:01:09.013Z"
   },
   {
    "duration": 6,
    "start_time": "2024-06-19T04:01:26.869Z"
   },
   {
    "duration": 8,
    "start_time": "2024-06-19T04:01:46.364Z"
   },
   {
    "duration": 8,
    "start_time": "2024-06-19T04:03:16.458Z"
   },
   {
    "duration": 5,
    "start_time": "2024-06-19T04:05:09.319Z"
   },
   {
    "duration": 10,
    "start_time": "2024-06-19T17:26:50.289Z"
   },
   {
    "duration": 6,
    "start_time": "2024-06-19T17:30:07.879Z"
   },
   {
    "duration": 9,
    "start_time": "2024-06-19T17:32:02.453Z"
   },
   {
    "duration": 5,
    "start_time": "2024-06-19T17:32:08.949Z"
   },
   {
    "duration": 4,
    "start_time": "2024-06-19T17:32:18.368Z"
   },
   {
    "duration": 5,
    "start_time": "2024-06-19T17:32:49.634Z"
   },
   {
    "duration": 5,
    "start_time": "2024-06-19T17:32:54.041Z"
   },
   {
    "duration": 5,
    "start_time": "2024-06-19T17:32:57.640Z"
   },
   {
    "duration": 331,
    "start_time": "2024-06-19T17:34:56.941Z"
   },
   {
    "duration": 23,
    "start_time": "2024-06-19T17:35:10.378Z"
   },
   {
    "duration": 24,
    "start_time": "2024-06-19T17:35:39.919Z"
   },
   {
    "duration": 5,
    "start_time": "2024-06-19T17:35:59.324Z"
   },
   {
    "duration": 24,
    "start_time": "2024-06-19T17:39:24.693Z"
   },
   {
    "duration": 23,
    "start_time": "2024-06-19T19:56:07.316Z"
   },
   {
    "duration": 4,
    "start_time": "2024-06-19T19:56:19.229Z"
   },
   {
    "duration": 24,
    "start_time": "2024-06-19T19:56:54.163Z"
   },
   {
    "duration": 26,
    "start_time": "2024-06-19T19:57:24.705Z"
   },
   {
    "duration": 7,
    "start_time": "2024-06-19T19:57:54.849Z"
   },
   {
    "duration": 12,
    "start_time": "2024-06-20T01:24:26.513Z"
   },
   {
    "duration": 8,
    "start_time": "2024-06-20T01:26:42.334Z"
   },
   {
    "duration": 6,
    "start_time": "2024-06-20T01:26:59.443Z"
   },
   {
    "duration": 327,
    "start_time": "2024-06-20T01:27:06.099Z"
   },
   {
    "duration": 5,
    "start_time": "2024-06-20T01:27:24.683Z"
   },
   {
    "duration": 5,
    "start_time": "2024-06-20T01:28:12.787Z"
   },
   {
    "duration": 6,
    "start_time": "2024-06-20T01:28:18.300Z"
   },
   {
    "duration": 6,
    "start_time": "2024-06-20T01:28:48.518Z"
   },
   {
    "duration": 5,
    "start_time": "2024-06-20T01:29:28.110Z"
   },
   {
    "duration": 4,
    "start_time": "2024-06-20T01:37:48.563Z"
   },
   {
    "duration": 5,
    "start_time": "2024-06-20T01:38:23.683Z"
   },
   {
    "duration": 6,
    "start_time": "2024-06-20T01:38:29.402Z"
   },
   {
    "duration": 5,
    "start_time": "2024-06-20T01:39:00.236Z"
   },
   {
    "duration": 5,
    "start_time": "2024-06-20T01:39:09.513Z"
   },
   {
    "duration": 5,
    "start_time": "2024-06-20T01:39:16.714Z"
   },
   {
    "duration": 11,
    "start_time": "2024-06-20T01:43:28.054Z"
   },
   {
    "duration": 31,
    "start_time": "2024-06-20T01:45:42.607Z"
   },
   {
    "duration": 7,
    "start_time": "2024-06-20T01:46:06.433Z"
   },
   {
    "duration": 7,
    "start_time": "2024-06-20T01:46:37.590Z"
   },
   {
    "duration": 7,
    "start_time": "2024-06-20T01:46:49.033Z"
   },
   {
    "duration": 7,
    "start_time": "2024-06-20T01:46:59.868Z"
   },
   {
    "duration": 6,
    "start_time": "2024-06-20T01:47:10.435Z"
   },
   {
    "duration": 7,
    "start_time": "2024-06-20T01:47:27.340Z"
   },
   {
    "duration": 6,
    "start_time": "2024-06-20T01:49:13.858Z"
   },
   {
    "duration": 28,
    "start_time": "2024-06-20T01:49:23.932Z"
   },
   {
    "duration": 27,
    "start_time": "2024-06-20T01:49:49.785Z"
   },
   {
    "duration": 6,
    "start_time": "2024-06-20T01:52:01.314Z"
   },
   {
    "duration": 6,
    "start_time": "2024-06-20T01:52:21.013Z"
   },
   {
    "duration": 5,
    "start_time": "2024-06-20T01:52:33.284Z"
   },
   {
    "duration": 6,
    "start_time": "2024-06-20T01:52:41.498Z"
   },
   {
    "duration": 5,
    "start_time": "2024-06-20T01:53:05.406Z"
   },
   {
    "duration": 6,
    "start_time": "2024-06-20T01:53:24.106Z"
   },
   {
    "duration": 5,
    "start_time": "2024-06-20T01:53:43.107Z"
   },
   {
    "duration": 6,
    "start_time": "2024-06-20T01:53:51.250Z"
   },
   {
    "duration": 7,
    "start_time": "2024-06-20T01:55:08.318Z"
   },
   {
    "duration": 5,
    "start_time": "2024-06-20T01:55:52.613Z"
   },
   {
    "duration": 9,
    "start_time": "2024-06-20T01:56:36.424Z"
   },
   {
    "duration": 8,
    "start_time": "2024-06-20T01:56:41.699Z"
   },
   {
    "duration": 14,
    "start_time": "2024-06-20T01:58:06.929Z"
   },
   {
    "duration": 10,
    "start_time": "2024-06-20T01:58:23.161Z"
   },
   {
    "duration": 10,
    "start_time": "2024-06-20T02:03:24.617Z"
   },
   {
    "duration": 11,
    "start_time": "2024-06-20T02:03:54.734Z"
   },
   {
    "duration": 12,
    "start_time": "2024-06-20T02:07:39.391Z"
   },
   {
    "duration": 9,
    "start_time": "2024-06-20T02:07:43.271Z"
   },
   {
    "duration": 12,
    "start_time": "2024-06-20T02:07:45.566Z"
   },
   {
    "duration": 10,
    "start_time": "2024-06-20T02:07:49.890Z"
   },
   {
    "duration": 11,
    "start_time": "2024-06-20T02:08:25.883Z"
   },
   {
    "duration": 10,
    "start_time": "2024-06-20T02:08:48.880Z"
   },
   {
    "duration": 11,
    "start_time": "2024-06-20T02:08:51.713Z"
   },
   {
    "duration": 11,
    "start_time": "2024-06-20T02:08:55.068Z"
   },
   {
    "duration": 11,
    "start_time": "2024-06-20T02:08:57.816Z"
   },
   {
    "duration": 10,
    "start_time": "2024-06-20T02:09:06.089Z"
   },
   {
    "duration": 12,
    "start_time": "2024-06-20T02:09:29.351Z"
   },
   {
    "duration": 10,
    "start_time": "2024-06-20T02:09:32.973Z"
   },
   {
    "duration": 41,
    "start_time": "2024-06-20T02:09:39.811Z"
   },
   {
    "duration": 12,
    "start_time": "2024-06-20T02:10:33.777Z"
   },
   {
    "duration": 10,
    "start_time": "2024-06-20T02:10:41.253Z"
   },
   {
    "duration": 11,
    "start_time": "2024-06-20T02:10:44.788Z"
   },
   {
    "duration": 10,
    "start_time": "2024-06-20T02:10:57.190Z"
   },
   {
    "duration": 11,
    "start_time": "2024-06-20T02:11:02.655Z"
   },
   {
    "duration": 11,
    "start_time": "2024-06-20T02:11:08.369Z"
   },
   {
    "duration": 12,
    "start_time": "2024-06-20T02:11:11.966Z"
   },
   {
    "duration": 11,
    "start_time": "2024-06-20T02:11:24.426Z"
   },
   {
    "duration": 11,
    "start_time": "2024-06-20T02:11:39.145Z"
   },
   {
    "duration": 16,
    "start_time": "2024-06-20T02:11:45.608Z"
   },
   {
    "duration": 12,
    "start_time": "2024-06-20T02:11:48.805Z"
   },
   {
    "duration": 13,
    "start_time": "2024-06-20T02:12:00.214Z"
   },
   {
    "duration": 10,
    "start_time": "2024-06-20T02:12:28.706Z"
   },
   {
    "duration": 10,
    "start_time": "2024-06-20T02:12:44.699Z"
   },
   {
    "duration": 10,
    "start_time": "2024-06-20T02:12:59.031Z"
   },
   {
    "duration": 9,
    "start_time": "2024-06-20T02:22:44.753Z"
   },
   {
    "duration": 10,
    "start_time": "2024-06-20T02:22:47.390Z"
   },
   {
    "duration": 12,
    "start_time": "2024-06-20T02:25:25.103Z"
   },
   {
    "duration": 11,
    "start_time": "2024-06-20T02:25:37.091Z"
   },
   {
    "duration": 11,
    "start_time": "2024-06-20T02:25:46.255Z"
   },
   {
    "duration": 72,
    "start_time": "2024-06-20T02:25:49.612Z"
   },
   {
    "duration": 13,
    "start_time": "2024-06-20T02:25:53.751Z"
   },
   {
    "duration": 15,
    "start_time": "2024-06-20T02:26:26.501Z"
   },
   {
    "duration": 11,
    "start_time": "2024-06-20T02:29:28.723Z"
   },
   {
    "duration": 11,
    "start_time": "2024-06-20T02:29:40.330Z"
   },
   {
    "duration": 4,
    "start_time": "2024-06-20T02:39:31.301Z"
   }
  ],
  "colab": {
   "provenance": []
  },
  "kernelspec": {
   "display_name": "Python 3 (ipykernel)",
   "language": "python",
   "name": "python3"
  },
  "language_info": {
   "codemirror_mode": {
    "name": "ipython",
    "version": 3
   },
   "file_extension": ".py",
   "mimetype": "text/x-python",
   "name": "python",
   "nbconvert_exporter": "python",
   "pygments_lexer": "ipython3",
   "version": "3.12.4"
  },
  "toc": {
   "base_numbering": 1,
   "nav_menu": {},
   "number_sections": true,
   "sideBar": true,
   "skip_h1_title": true,
   "title_cell": "Table of Contents",
   "title_sidebar": "Contents",
   "toc_cell": false,
   "toc_position": {},
   "toc_section_display": true,
   "toc_window_display": false
  }
 },
 "nbformat": 4,
 "nbformat_minor": 1
}
